{
 "cells": [
  {
   "cell_type": "markdown",
   "metadata": {},
   "source": [
    "# quant-econ Solutions: The McCall Job Search Model"
   ]
  },
  {
   "cell_type": "markdown",
   "metadata": {},
   "source": [
    "Solutions for http://quant-econ.net/jl/mccall_model.html"
   ]
  },
  {
   "cell_type": "markdown",
   "metadata": {},
   "source": [
    "## Exercise 1"
   ]
  },
  {
   "cell_type": "markdown",
   "metadata": {},
   "source": [
    "Our task is to implement a function that computes the reservation wage, using the logic discussed in the lecture.  Its argument should be an instance of McCallModel.\n",
    "\n",
    "Here is one solution.  It uses `searchsortedfirst` to obtain the first $w$ in the set of possible wages such that $V(w) > U$.\n",
    "\n",
    "The code assumes that the file `mccall_bellman_iteration.jl` is in the same directory as this notebook."
   ]
  },
  {
   "cell_type": "code",
   "execution_count": 1,
   "metadata": {
    "collapsed": false
   },
   "outputs": [
    {
     "data": {
      "text/plain": [
       "compute_reservation_wage (generic function with 1 method)"
      ]
     },
     "execution_count": 1,
     "metadata": {},
     "output_type": "execute_result"
    }
   ],
   "source": [
    "#=\n",
    "Compute the reservation wage in the McCall model.\n",
    "\n",
    "=#\n",
    "\n",
    "include(\"mccall_bellman_iteration.jl\")\n",
    "\n",
    "\"\"\"\n",
    "Computes the reservation wage of an instance of the McCall model\n",
    "by finding the smallest w such that V(w) > U.\n",
    "\n",
    "If V(w) > U for all w, then the reservation wage w_bar is set to\n",
    "the lowest wage in mcm.w_vec.\n",
    "\n",
    "If v(w) < U for all w, then w_bar is set to np.inf.\n",
    "\n",
    "Parameters\n",
    "----------\n",
    "mcm : an instance of McCallModel\n",
    "return_values : bool (optional, default=false)\n",
    "    Return the value functions as well \n",
    "\n",
    "Returns\n",
    "-------\n",
    "w_bar : scalar\n",
    "    The reservation wage\n",
    "    \n",
    "\"\"\"\n",
    "function compute_reservation_wage(mcm; return_values=false)\n",
    "\n",
    "    V, U = solve_mccall_model(mcm)\n",
    "    w_idx = searchsortedfirst(V - U, 0)  \n",
    "\n",
    "    if w_idx == length(V)\n",
    "        w_bar = Inf\n",
    "    else\n",
    "        w_bar = mcm.w_vec[w_idx]\n",
    "    end\n",
    "\n",
    "    if return_values == false\n",
    "        return w_bar\n",
    "    else\n",
    "        return w_bar, V, U\n",
    "    end\n",
    "\n",
    "end"
   ]
  },
  {
   "cell_type": "markdown",
   "metadata": {},
   "source": [
    "Here's a sample of useage:"
   ]
  },
  {
   "cell_type": "code",
   "execution_count": 2,
   "metadata": {
    "collapsed": false
   },
   "outputs": [
    {
     "data": {
      "text/plain": [
       "11.525423728813559"
      ]
     },
     "execution_count": 2,
     "metadata": {},
     "output_type": "execute_result"
    }
   ],
   "source": [
    "mcm = McCallModel()\n",
    "compute_reservation_wage(mcm)"
   ]
  },
  {
   "cell_type": "markdown",
   "metadata": {},
   "source": [
    "## Exercise 2"
   ]
  },
  {
   "cell_type": "markdown",
   "metadata": {},
   "source": [
    "We want to plot $\\bar w$ againsts $\\gamma$.  Here's some suitable code:"
   ]
  },
  {
   "cell_type": "code",
   "execution_count": 3,
   "metadata": {
    "collapsed": false
   },
   "outputs": [
    {
     "name": "stdout",
     "output_type": "stream",
     "text": [
      "[Plots.jl] Initializing backend: pyplot\n"
     ]
    },
    {
     "name": "stderr",
     "output_type": "stream",
     "text": [
      "QGtkStyle could not resolve GTK. Make sure you have installed the proper libraries.\n"
     ]
    },
    {
     "data": {
      "text/html": [
       "<img src=\"data:image/png;base64,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\" />"
      ]
     },
     "execution_count": 3,
     "metadata": {},
     "output_type": "execute_result"
    }
   ],
   "source": [
    "using Plots, LaTeXStrings\n",
    "pyplot()\n",
    "\n",
    "grid_size = 25  \n",
    "gamma_vals = linspace(0.05, 0.95, grid_size)  \n",
    "w_bar_vals = similar(gamma_vals)\n",
    "\n",
    "mcm = McCallModel()\n",
    "\n",
    "for (i, gamma) in enumerate(gamma_vals)\n",
    "    mcm.gamma = gamma\n",
    "    w_bar = compute_reservation_wage(mcm)\n",
    "    w_bar_vals[i] = w_bar\n",
    "end\n",
    "\n",
    "plot(gamma_vals, \n",
    "    w_bar_vals, \n",
    "    lw=2, \n",
    "    alpha=0.7, \n",
    "    xlabel=\"job offer rate\",\n",
    "    ylabel=\"reservation wage\",\n",
    "    label=L\"$\\bar w$ as a function of $\\gamma$\")"
   ]
  },
  {
   "cell_type": "markdown",
   "metadata": {
    "collapsed": true
   },
   "source": [
    "As expected, the reservation wage increases in $\\gamma$.\n",
    "\n",
    "This is because higher $\\gamma$ translates to a more favorable job search environment.\n",
    "\n",
    "Hence workers are less willing to accept lower offers."
   ]
  },
  {
   "cell_type": "code",
   "execution_count": null,
   "metadata": {
    "collapsed": true
   },
   "outputs": [],
   "source": []
  }
 ],
 "metadata": {
  "kernelspec": {
   "display_name": "Julia 0.4.5",
   "language": "julia",
   "name": "julia-0.4"
  },
  "language_info": {
   "file_extension": ".jl",
   "mimetype": "application/julia",
   "name": "julia",
   "version": "0.4.6"
  }
 },
 "nbformat": 4,
 "nbformat_minor": 0
}
