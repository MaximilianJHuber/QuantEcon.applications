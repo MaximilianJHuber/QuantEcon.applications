{
 "cells": [
  {
   "cell_type": "markdown",
   "metadata": {},
   "source": [
    "# quant-econ Solutions: Markov Asset Pricing"
   ]
  },
  {
   "cell_type": "markdown",
   "metadata": {},
   "source": [
    "Solutions for http://quant-econ.net/jl/markov_asset.html"
   ]
  },
  {
   "cell_type": "code",
   "execution_count": 4,
   "metadata": {
    "collapsed": false
   },
   "outputs": [
    {
     "data": {
      "text/plain": [
       "call_option (generic function with 3 methods)"
      ]
     },
     "execution_count": 1,
     "metadata": {},
     "output_type": "execute_result"
    }
   ],
   "source": [
    "include(\"asset_pricing.jl\")  #  Assumes you have this file in the same directory as this notebook"
   ]
  },
  {
   "cell_type": "markdown",
   "metadata": {},
   "source": [
    "## Exercise 1"
   ]
  },
  {
   "cell_type": "code",
   "execution_count": 5,
   "metadata": {
    "collapsed": false
   },
   "outputs": [
    {
     "name": "stdout",
     "output_type": "stream",
     "text": [
      "Lucas Tree Prices: [12.722217630644252,14.725150017725886,17.571422357262904,21.9357066112197,29.474015777144995]\n",
      "\n",
      "Consol Bond Prices: [87.5686013853112,109.25108965024711,148.67554548466475,242.55144081989457,753.8710047641986]\n",
      "\n",
      "Should be 0: [0.0,1.7763568394002505e-15,0.0,0.0,0.0]\n",
      "\n"
     ]
    }
   ],
   "source": [
    "# == Define primitives == #\n",
    "n = 5\n",
    "P = 0.0125 .* ones(n, n) \n",
    "P .+= diagm(0.95 .- 0.0125 .* ones(5))\n",
    "s = [1.05, 1.025, 1.0, 0.975, 0.95]\n",
    "gamm = 2.0\n",
    "bet = 0.94\n",
    "zet = 1.0\n",
    "ap = AssetPrices(bet, P, s, gamm)\n",
    "\n",
    "v = tree_price(ap)\n",
    "println(\"Lucas Tree Prices: $v\\n\")\n",
    "\n",
    "v_consol = consol_price(ap, 1.0)\n",
    "println(\"Consol Bond Prices: $(v_consol)\\n\")\n",
    "\n",
    "P_tilde = P .* s'.^(1-gamm)\n",
    "temp = bet .* (P_tilde * v) + bet * (P_tilde * ones(n))\n",
    "println(\"Should be 0: $(temp - v)\\n\") \n",
    "\n",
    "p_s = 150.0\n",
    "w_bar, w_bars = call_option(ap, zet, p_s, [10, 20, 30]);"
   ]
  },
  {
   "cell_type": "code",
   "execution_count": null,
   "metadata": {
    "collapsed": true
   },
   "outputs": [],
   "source": []
  }
 ],
 "metadata": {
  "kernelspec": {
   "display_name": "Julia 0.4.5",
   "language": "julia",
   "name": "julia-0.4"
  },
  "language_info": {
   "file_extension": ".jl",
   "mimetype": "application/julia",
   "name": "julia",
   "version": "0.4.6"
  }
 },
 "nbformat": 4,
 "nbformat_minor": 0
}
