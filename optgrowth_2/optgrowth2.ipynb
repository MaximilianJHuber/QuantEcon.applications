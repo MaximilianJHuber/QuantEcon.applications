{
 "cells": [
  {
   "cell_type": "code",
   "execution_count": 12,
   "metadata": {
    "collapsed": false
   },
   "outputs": [],
   "source": [
    "using Distributions\n",
    "using Interpolations\n",
    "using QuantEcon\n",
    "using Optim"
   ]
  },
  {
   "cell_type": "code",
   "execution_count": 2,
   "metadata": {
    "collapsed": false
   },
   "outputs": [],
   "source": [
    "type LogLinearGrowthModel\n",
    "    alpha::Float64\n",
    "    beta::Float64\n",
    "    f::Function\n",
    "    u::Function\n",
    "    mu::Float64\n",
    "    sigma::Float64\n",
    "    grid_max::Float64\n",
    "    grid_size::Int64\n",
    "    grid::LinSpace{Float64}\n",
    "    shocks::Array{Float64}\n",
    "    \n",
    "    function LogLinearGrowthModel(alpha=0.65, beta=0.95, f=k -> k^alpha, u=log, mu=1, \n",
    "            sigma=0.1, grid_max=8.0, grid_size=150)\n",
    "        \n",
    "        new(alpha, beta, f, u, mu, sigma, grid_max, grid_size, \n",
    "            linspace(1e-6, grid_max, grid_size), rand(LogNormal(mu, sigma),250))\n",
    "    end\n",
    "    \n",
    "end"
   ]
  },
  {
   "cell_type": "code",
   "execution_count": 27,
   "metadata": {
    "collapsed": false
   },
   "outputs": [
    {
     "data": {
      "text/plain": [
       "get_greedy (generic function with 1 method)"
      ]
     },
     "execution_count": 27,
     "metadata": {},
     "output_type": "execute_result"
    }
   ],
   "source": [
    "function bellman_operator!(gm::LogLinearGrowthModel, w::Vector, out::Vector; ret_policy::Bool=false)\n",
    "    \n",
    "    Aw = scale(interpolate(w, BSpline(Linear()), OnGrid()), gm.grid)\n",
    "    \n",
    "    for (i, y) in enumerate(gm.grid)\n",
    "        objective(c) = - gm.u(c) - gm.beta * mean([Aw[x] for x in gm.f(y-c) * gm.shocks])\n",
    "        res = optimize(objective, 1e-7, y)\n",
    "        c_star = res.minimum\n",
    "\n",
    "        if ret_policy\n",
    "            out[i] = c_star\n",
    "        else\n",
    "            out[i] = - objective(c_star)\n",
    "        end\n",
    "    end\n",
    "\n",
    "    return out\n",
    "end\n",
    "\n",
    "function bellman_operator(gm::LogLinearGrowthModel, w::Vector;\n",
    "                          ret_policy::Bool=false)\n",
    "    out = similar(w)\n",
    "    bellman_operator!(gm, w, out, ret_policy=ret_policy)\n",
    "end\n",
    "\n",
    "function get_greedy!(gm::LogLinearGrowthModel, w::Vector, out::Vector)\n",
    "    bellman_operator!(gm, w, out, ret_policy=true)\n",
    "end\n",
    "\n",
    "get_greedy(gm::LogLinearGrowthModel, w::Vector) = bellman_operator(gm, w, ret_policy=true)"
   ]
  },
  {
   "cell_type": "code",
   "execution_count": 28,
   "metadata": {
    "collapsed": false
   },
   "outputs": [
    {
     "data": {
      "text/plain": [
       "compute_value_function (generic function with 1 method)"
      ]
     },
     "execution_count": 28,
     "metadata": {},
     "output_type": "execute_result"
    }
   ],
   "source": [
    "function compute_value_function(gm::LogLinearGrowthModel)\n",
    "    Tw = zeros(length(gm.grid))\n",
    "    initial_w = 5 * log(gm.grid) - 25\n",
    "    bellman(w) = bellman_operator(gm, w)\n",
    "    \n",
    "    v_star = compute_fixed_point(bellman,\n",
    "            initial_w, \n",
    "            err_tol=1e-4,\n",
    "            max_iter=100,\n",
    "            verbose=true,\n",
    "            print_skip=5)\n",
    "    \n",
    "    return v_star\n",
    "end"
   ]
  },
  {
   "cell_type": "code",
   "execution_count": 29,
   "metadata": {
    "collapsed": false
   },
   "outputs": [],
   "source": [
    "gm = LogLinearGrowthModel();"
   ]
  },
  {
   "cell_type": "code",
   "execution_count": 30,
   "metadata": {
    "collapsed": false,
    "scrolled": true
   },
   "outputs": [
    {
     "name": "stdout",
     "output_type": "stream",
     "text": [
      "Compute iterate 5 with error 7.385666550300343\n",
      "Compute iterate 10 with error 5.6644201229782425\n",
      "Compute iterate 15 with error 4.331026788692782\n",
      "Compute iterate 20 with error 3.304268067547355\n",
      "Compute iterate 25 with error 2.517020883920111\n",
      "Compute iterate 30 with error 1.9152039291335257\n",
      "Compute iterate 35 with error 1.4560922107549175\n",
      "Compute iterate 40 with error 1.1063618384838207\n",
      "Compute iterate 45 with error 0.8402376447722588\n",
      "Compute iterate 50 with error 0.6378931976491913\n",
      "Compute iterate 55 with error 0.48413511866453973\n",
      "Compute iterate 60 with error 0.36735096256239785\n",
      "Compute iterate 65 with error 0.2786818774614517\n",
      "Compute iterate 70 with error 0.2113789167744926\n",
      "Compute iterate 75 with error 0.1603057560011507\n",
      "Compute iterate 80 with error 0.1215563671213431\n",
      "Compute iterate 85 with error 0.09216207402232612\n",
      "Compute iterate 90 with error 0.06986764193499084\n",
      "Compute iterate 95 with error 0.05296043904337466\n",
      "Compute iterate 100 with error 0.040140264326282704\n"
     ]
    },
    {
     "name": "stderr",
     "output_type": "stream",
     "text": [
      "WARNING: max_iter exceeded in compute_fixed_point\n"
     ]
    }
   ],
   "source": [
    "v_star = compute_value_function(gm);"
   ]
  },
  {
   "cell_type": "code",
   "execution_count": null,
   "metadata": {
    "collapsed": false
   },
   "outputs": [],
   "source": []
  }
 ],
 "metadata": {
  "kernelspec": {
   "display_name": "Julia 0.4.6",
   "language": "julia",
   "name": "julia-0.4"
  },
  "language_info": {
   "file_extension": ".jl",
   "mimetype": "application/julia",
   "name": "julia",
   "version": "0.4.6"
  }
 },
 "nbformat": 4,
 "nbformat_minor": 0
}
